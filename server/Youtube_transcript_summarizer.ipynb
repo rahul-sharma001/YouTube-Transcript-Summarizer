{
  "nbformat": 4,
  "nbformat_minor": 0,
  "metadata": {
    "colab": {
      "name": "Youtube_transcript_summarizer.ipynb",
      "provenance": [],
      "collapsed_sections": []
    },
    "kernelspec": {
      "name": "python3",
      "display_name": "Python 3"
    },
    "language_info": {
      "name": "python"
    }
  },
  "cells": [
    {
      "cell_type": "code",
      "metadata": {
        "colab": {
          "base_uri": "https://localhost:8080/"
        },
        "id": "zO1-AY0rC1xB",
        "outputId": "efca3df8-5540-4cd8-9310-9aee8164e689"
      },
      "source": [
        "from flask import Flask\n",
        "import datetime\n",
        "from flask import request # used to parse payload\n",
        "from youtube_transcript_api import YouTubeTranscriptApi\n",
        "from youtube_transcript_api.formatters import TextFormatter\n",
        "from flask import render_template\n",
        "from transformers import AutoTokenizer, AutoModelForSeq2SeqLM\n",
        "from summarizer import Summarizer\n",
        "from flask import abort\n",
        "from flask_cors import CORS\n",
        "\n",
        "# define a variable to hold you app\n",
        "app = Flask(__name__)\n",
        "CORS(app)\n",
        "\n",
        "@app.route('/')\n",
        "def hello():\n",
        "    return render_template('index.html')\n",
        "\n",
        "@app.route('/time', methods=['GET'])\n",
        "def get_time():\n",
        "    return str(datetime.datetime.now())\n",
        "\n",
        "@app.route('/api/summarize', methods=['GET'])\n",
        "def GetUrl():\n",
        "    \"\"\"\n",
        "    Called as /api/summarize?youtube_url='url'\n",
        "    \"\"\"\n",
        "    # if user sends payload to variable name, get it. Else empty string\n",
        "    video_url = request.args.get('youtube_url', '') \n",
        "    # if(len(video_url) == 0) or (not '=' in video_url):\n",
        "    #   print(\"f\")\n",
        "    #   abort(404)\n",
        "    \n",
        "    video_id = video_url.split('=')[1]\n",
        "    response = GetTranscript(video_id)\n",
        "    return response\n",
        "\n",
        "def abs_sum(text, model, tokenizer):\n",
        "\n",
        "    tokens_input = tokenizer.encode(\"summarize: \"+text, return_tensors='pt',\n",
        "                                    max_length=tokenizer.model_max_length,\n",
        "                                    truncation=True)\n",
        "\n",
        "    summary_ids = model.generate(tokens_input, min_length=80, max_length=150,\n",
        "                                length_penalty=15, num_beams=4)\n",
        "\n",
        "    summary = tokenizer.decode(summary_ids[0], skip_special_tokens=True)\n",
        "\n",
        "    return summary\n",
        "\n",
        "def Summarize(text):\n",
        "    model = AutoModelForSeq2SeqLM.from_pretrained('t5-base')\n",
        "    tokenizer = AutoTokenizer.from_pretrained('t5-base')\n",
        "    bert_model = Summarizer()\n",
        "    ext_summary = bert_model(text, max_length=400)\n",
        "\n",
        "    summary_2 = abs_sum(ext_summary, model, tokenizer)\n",
        "    return summary_2\n",
        "\n",
        "# video id are the last characters in the link of youtube video\n",
        "def GetTranscript(video_id):\n",
        "    transcript = YouTubeTranscriptApi.get_transcript(video_id)\n",
        "    formatter = TextFormatter()\n",
        "    text_formatted = formatter.format_transcript(transcript)\n",
        "    f = open('transcript.txt', 'w', encoding='utf-8')\n",
        "    f.write(text_formatted)\n",
        "    # print(text_formatted)\n",
        "    # return text_formatted\n",
        "    return Summarize(text_formatted)\n",
        "\n",
        "# server the app when this file is run\n",
        "if __name__ == '__main__': \n",
        "  app.run()"
      ],
      "execution_count": 17,
      "outputs": [
        {
          "output_type": "stream",
          "text": [
            " * Serving Flask app \"__main__\" (lazy loading)\n",
            " * Environment: production\n",
            "\u001b[31m   WARNING: This is a development server. Do not use it in a production deployment.\u001b[0m\n",
            "\u001b[2m   Use a production WSGI server instead.\u001b[0m\n",
            " * Debug mode: off\n"
          ],
          "name": "stdout"
        },
        {
          "output_type": "stream",
          "text": [
            " * Running on http://127.0.0.1:5000/ (Press CTRL+C to quit)\n",
            "127.0.0.1 - - [11/May/2021 06:09:14] \"\u001b[37mGET / HTTP/1.1\u001b[0m\" 200 -\n",
            "127.0.0.1 - - [11/May/2021 06:09:15] \"\u001b[33mGET /favicon.ico HTTP/1.1\u001b[0m\" 404 -\n",
            "127.0.0.1 - - [11/May/2021 06:09:16] \"\u001b[37mGET / HTTP/1.1\u001b[0m\" 200 -\n",
            "127.0.0.1 - - [11/May/2021 06:11:56] \"\u001b[37mGET /api/summarize?youtube_url=https://www.youtube.com/watch?v=iXNsAYOTzgM HTTP/1.1\u001b[0m\" 200 -\n",
            "127.0.0.1 - - [11/May/2021 06:12:46] \"\u001b[37mGET /api/summarize?youtube_url=https://www.youtube.com/watch?v=iXNsAYOTzgM HTTP/1.1\u001b[0m\" 200 -\n",
            "127.0.0.1 - - [11/May/2021 06:12:54] \"\u001b[37mGET /api/summarize?youtube_url=https://www.youtube.com/watch?v=iXNsAYOTzgM HTTP/1.1\u001b[0m\" 200 -\n",
            "127.0.0.1 - - [11/May/2021 06:13:13] \"\u001b[37mGET /api/summarize?youtube_url=https://www.youtube.com/watch?v=iXNsAYOTzgM HTTP/1.1\u001b[0m\" 200 -\n",
            "127.0.0.1 - - [11/May/2021 06:13:51] \"\u001b[37mGET /api/summarize?youtube_url=https://www.youtube.com/watch?v=iXNsAYOTzgM HTTP/1.1\u001b[0m\" 200 -\n",
            "127.0.0.1 - - [11/May/2021 06:14:26] \"\u001b[37mGET /api/summarize?youtube_url=https://www.youtube.com/watch?v=iXNsAYOTzgM HTTP/1.1\u001b[0m\" 200 -\n",
            "127.0.0.1 - - [11/May/2021 06:16:34] \"\u001b[37mGET /api/summarize?youtube_url=https://www.youtube.com/watch?v=iXNsAYOTzgM HTTP/1.1\u001b[0m\" 200 -\n",
            "127.0.0.1 - - [11/May/2021 06:16:44] \"\u001b[37mGET /api/summarize?youtube_url=https://www.youtube.com/watch?v=iXNsAYOTzgM HTTP/1.1\u001b[0m\" 200 -\n",
            "127.0.0.1 - - [11/May/2021 06:16:55] \"\u001b[37mGET /api/summarize?youtube_url=https://www.youtube.com/watch?v=iXNsAYOTzgM HTTP/1.1\u001b[0m\" 200 -\n",
            "127.0.0.1 - - [11/May/2021 06:22:02] \"\u001b[37mGET /api/summarize?youtube_url=https://www.youtube.com/watch?v=iXNsAYOTzgM HTTP/1.1\u001b[0m\" 200 -\n",
            "127.0.0.1 - - [11/May/2021 06:22:32] \"\u001b[37mGET /api/summarize?youtube_url=https://www.youtube.com/watch?v=iXNsAYOTzgM HTTP/1.1\u001b[0m\" 200 -\n",
            "127.0.0.1 - - [11/May/2021 06:22:57] \"\u001b[37mGET /api/summarize?youtube_url=https://www.youtube.com/watch?v=iXNsAYOTzgM HTTP/1.1\u001b[0m\" 200 -\n",
            "127.0.0.1 - - [11/May/2021 06:27:29] \"\u001b[37mGET /api/summarize?youtube_url=https://www.youtube.com/watch?v=iXNsAYOTzgM HTTP/1.1\u001b[0m\" 200 -\n",
            "127.0.0.1 - - [11/May/2021 06:33:32] \"\u001b[37mGET /api/summarize?youtube_url=https://www.youtube.com/watch?v=iXNsAYOTzgM HTTP/1.1\u001b[0m\" 200 -\n",
            "127.0.0.1 - - [11/May/2021 06:33:43] \"\u001b[37mGET /api/summarize?youtube_url=https://www.youtube.com/watch?v=iXNsAYOTzgM HTTP/1.1\u001b[0m\" 200 -\n",
            "127.0.0.1 - - [11/May/2021 06:35:06] \"\u001b[37mGET /api/summarize?youtube_url=https://www.youtube.com/watch?v=iXNsAYOTzgM HTTP/1.1\u001b[0m\" 200 -\n",
            "127.0.0.1 - - [11/May/2021 06:35:21] \"\u001b[37mGET /api/summarize?youtube_url=https://www.youtube.com/watch?v=iXNsAYOTzgM HTTP/1.1\u001b[0m\" 200 -\n",
            "127.0.0.1 - - [11/May/2021 06:38:18] \"\u001b[37mGET /api/summarize?youtube_url=https://www.youtube.com/watch?v=iXNsAYOTzgM HTTP/1.1\u001b[0m\" 200 -\n",
            "127.0.0.1 - - [11/May/2021 06:38:28] \"\u001b[37mGET /api/summarize?youtube_url=https://www.youtube.com/watch?v=iXNsAYOTzgM HTTP/1.1\u001b[0m\" 200 -\n"
          ],
          "name": "stderr"
        }
      ]
    },
    {
      "cell_type": "code",
      "metadata": {
        "colab": {
          "base_uri": "https://localhost:8080/"
        },
        "id": "rzJkD4kinDln",
        "outputId": "b8afb100-f2c2-477a-ecc7-bec2d593fcf2"
      },
      "source": [
        "! ngrok authtoken 1sLdQwHD2kh1srvZBTeUlt2xPc2_2DSPydDnqQaoMLLz3xqVx"
      ],
      "execution_count": 14,
      "outputs": [
        {
          "output_type": "stream",
          "text": [
            "Authtoken saved to configuration file: /root/.ngrok2/ngrok.yml\n"
          ],
          "name": "stdout"
        }
      ]
    },
    {
      "cell_type": "code",
      "metadata": {
        "id": "OQ9rnxyhd1rv"
      },
      "source": [
        "from pyngrok import ngrok\n",
        "ngrok.kill()"
      ],
      "execution_count": 2,
      "outputs": []
    },
    {
      "cell_type": "code",
      "metadata": {
        "colab": {
          "base_uri": "https://localhost:8080/"
        },
        "id": "etuFAR23wV4_",
        "outputId": "88f02c72-4a83-4c79-9f84-0c595191fc5a"
      },
      "source": [
        "ngrok.connect(5000)"
      ],
      "execution_count": 16,
      "outputs": [
        {
          "output_type": "execute_result",
          "data": {
            "text/plain": [
              "<NgrokTunnel: \"http://915557d30e19.ngrok.io\" -> \"http://localhost:5000\">"
            ]
          },
          "metadata": {
            "tags": []
          },
          "execution_count": 16
        }
      ]
    },
    {
      "cell_type": "code",
      "metadata": {
        "colab": {
          "base_uri": "https://localhost:8080/"
        },
        "id": "W62JYEZbQL3N",
        "outputId": "658c506e-78d9-418b-fb92-3be5bac3e0e2"
      },
      "source": [
        "!pip install pyngrok"
      ],
      "execution_count": 3,
      "outputs": [
        {
          "output_type": "stream",
          "text": [
            "Collecting pyngrok\n",
            "\u001b[?25l  Downloading https://files.pythonhosted.org/packages/6b/4e/a2fe095bbe17cf26424c4abcd22a0490e22d01cc628f25af5e220ddbf6f0/pyngrok-5.0.5.tar.gz (745kB)\n",
            "\u001b[K     |████████████████████████████████| 747kB 6.8MB/s \n",
            "\u001b[?25hRequirement already satisfied: PyYAML in /usr/local/lib/python3.7/dist-packages (from pyngrok) (3.13)\n",
            "Building wheels for collected packages: pyngrok\n",
            "  Building wheel for pyngrok (setup.py) ... \u001b[?25l\u001b[?25hdone\n",
            "  Created wheel for pyngrok: filename=pyngrok-5.0.5-cp37-none-any.whl size=19246 sha256=a647d443a1a7c6cb6587c09fbe55d1b457ffe88992281c12ef02b21f48d1720c\n",
            "  Stored in directory: /root/.cache/pip/wheels/0c/13/64/5ebbcc22eaf53fdf5766b397c1fb17c83f5775fdccf0ea1b88\n",
            "Successfully built pyngrok\n",
            "Installing collected packages: pyngrok\n",
            "Successfully installed pyngrok-5.0.5\n"
          ],
          "name": "stdout"
        }
      ]
    },
    {
      "cell_type": "code",
      "metadata": {
        "colab": {
          "base_uri": "https://localhost:8080/",
          "height": 1000
        },
        "id": "XaACeBQ0C66O",
        "outputId": "d81df1c6-b69a-493f-8b91-78782bc28fdd"
      },
      "source": [
        "!pip install -r requirements.txt"
      ],
      "execution_count": 2,
      "outputs": [
        {
          "output_type": "stream",
          "text": [
            "Requirement already satisfied: absl-py==0.12.0 in /usr/local/lib/python3.7/dist-packages (from -r requirements.txt (line 1)) (0.12.0)\n",
            "Collecting bert-extractive-summarizer==0.7.1\n",
            "  Downloading https://files.pythonhosted.org/packages/1a/07/fdb05f9e18b6f641499ef56737126fbd2fafe1cdc1a04ba069d5aa205901/bert_extractive_summarizer-0.7.1-py3-none-any.whl\n",
            "Collecting blis==0.7.4\n",
            "\u001b[?25l  Downloading https://files.pythonhosted.org/packages/0e/c1/f364687078298233696eff17305f9a54c4a27d9da03c07c0062909d550f1/blis-0.7.4-cp37-cp37m-manylinux2014_x86_64.whl (9.8MB)\n",
            "\u001b[K     |████████████████████████████████| 9.8MB 6.3MB/s \n",
            "\u001b[?25hCollecting catalogue==2.0.4\n",
            "  Downloading https://files.pythonhosted.org/packages/9c/10/dbc1203a4b1367c7b02fddf08cb2981d9aa3e688d398f587cea0ab9e3bec/catalogue-2.0.4-py3-none-any.whl\n",
            "Requirement already satisfied: certifi==2020.12.5 in /usr/local/lib/python3.7/dist-packages (from -r requirements.txt (line 5)) (2020.12.5)\n",
            "Requirement already satisfied: cffi==1.14.5 in /usr/local/lib/python3.7/dist-packages (from -r requirements.txt (line 6)) (1.14.5)\n",
            "Collecting chardet==4.0.0\n",
            "\u001b[?25l  Downloading https://files.pythonhosted.org/packages/19/c7/fa589626997dd07bd87d9269342ccb74b1720384a4d739a1872bd84fbe68/chardet-4.0.0-py2.py3-none-any.whl (178kB)\n",
            "\u001b[K     |████████████████████████████████| 184kB 52.9MB/s \n",
            "\u001b[?25hRequirement already satisfied: click==7.1.2 in /usr/local/lib/python3.7/dist-packages (from -r requirements.txt (line 8)) (7.1.2)\n",
            "Collecting cryptography==3.4.7\n",
            "\u001b[?25l  Downloading https://files.pythonhosted.org/packages/b2/26/7af637e6a7e87258b963f1731c5982fb31cd507f0d90d91836e446955d02/cryptography-3.4.7-cp36-abi3-manylinux2014_x86_64.whl (3.2MB)\n",
            "\u001b[K     |████████████████████████████████| 3.2MB 32.7MB/s \n",
            "\u001b[?25hRequirement already satisfied: cycler==0.10.0 in /usr/local/lib/python3.7/dist-packages (from -r requirements.txt (line 10)) (0.10.0)\n",
            "Requirement already satisfied: cymem==2.0.5 in /usr/local/lib/python3.7/dist-packages (from -r requirements.txt (line 11)) (2.0.5)\n",
            "Requirement already satisfied: filelock==3.0.12 in /usr/local/lib/python3.7/dist-packages (from -r requirements.txt (line 12)) (3.0.12)\n",
            "Requirement already satisfied: Flask==1.1.2 in /usr/local/lib/python3.7/dist-packages (from -r requirements.txt (line 13)) (1.1.2)\n",
            "Collecting Flask-Cors==3.0.10\n",
            "  Downloading https://files.pythonhosted.org/packages/db/84/901e700de86604b1c4ef4b57110d4e947c218b9997adf5d38fa7da493bce/Flask_Cors-3.0.10-py2.py3-none-any.whl\n",
            "Collecting flask-ngrok==0.0.25\n",
            "  Downloading https://files.pythonhosted.org/packages/af/6c/f54cb686ad1129e27d125d182f90f52b32f284e6c8df58c1bae54fa1adbc/flask_ngrok-0.0.25-py3-none-any.whl\n",
            "Requirement already satisfied: flatbuffers==1.12 in /usr/local/lib/python3.7/dist-packages (from -r requirements.txt (line 16)) (1.12)\n",
            "Collecting flax==0.3.3\n",
            "\u001b[?25l  Downloading https://files.pythonhosted.org/packages/63/1f/63c720200f7a679d9fd408eb2641960d6fa99030c874ecba24091e694f91/flax-0.3.3-py3-none-any.whl (179kB)\n",
            "\u001b[K     |████████████████████████████████| 184kB 45.9MB/s \n",
            "\u001b[?25hRequirement already satisfied: idna==2.10 in /usr/local/lib/python3.7/dist-packages (from -r requirements.txt (line 18)) (2.10)\n",
            "Requirement already satisfied: itsdangerous==1.1.0 in /usr/local/lib/python3.7/dist-packages (from -r requirements.txt (line 19)) (1.1.0)\n",
            "Collecting jax==0.2.13\n",
            "\u001b[?25l  Downloading https://files.pythonhosted.org/packages/75/dc/5e11df67d7d4438f7f4f553297fe62066de48a5c07b14d5c162e673c46b3/jax-0.2.13.tar.gz (630kB)\n",
            "\u001b[K     |████████████████████████████████| 634kB 33.8MB/s \n",
            "\u001b[?25hRequirement already satisfied: jaxlib==0.1.65 in /usr/local/lib/python3.7/dist-packages (from -r requirements.txt (line 21)) (0.1.65+cuda110)\n",
            "Requirement already satisfied: Jinja2==2.11.3 in /usr/local/lib/python3.7/dist-packages (from -r requirements.txt (line 22)) (2.11.3)\n",
            "Requirement already satisfied: joblib==1.0.1 in /usr/local/lib/python3.7/dist-packages (from -r requirements.txt (line 23)) (1.0.1)\n",
            "Requirement already satisfied: kiwisolver==1.3.1 in /usr/local/lib/python3.7/dist-packages (from -r requirements.txt (line 24)) (1.3.1)\n",
            "Requirement already satisfied: MarkupSafe==1.1.1 in /usr/local/lib/python3.7/dist-packages (from -r requirements.txt (line 25)) (1.1.1)\n",
            "Collecting matplotlib==3.4.1\n",
            "\u001b[?25l  Downloading https://files.pythonhosted.org/packages/ce/63/74c0b6184b6b169b121bb72458818ee60a7d7c436d7b1907bd5874188c55/matplotlib-3.4.1-cp37-cp37m-manylinux1_x86_64.whl (10.3MB)\n",
            "\u001b[K     |████████████████████████████████| 10.3MB 29.2MB/s \n",
            "\u001b[?25hRequirement already satisfied: msgpack==1.0.2 in /usr/local/lib/python3.7/dist-packages (from -r requirements.txt (line 27)) (1.0.2)\n",
            "Requirement already satisfied: murmurhash==1.0.5 in /usr/local/lib/python3.7/dist-packages (from -r requirements.txt (line 28)) (1.0.5)\n",
            "Collecting numpy==1.20.2\n",
            "\u001b[?25l  Downloading https://files.pythonhosted.org/packages/73/ef/8967d406f3f85018ceb5efab50431e901683188f1741ceb053efcab26c87/numpy-1.20.2-cp37-cp37m-manylinux2010_x86_64.whl (15.3MB)\n",
            "\u001b[K     |████████████████████████████████| 15.3MB 149kB/s \n",
            "\u001b[?25hRequirement already satisfied: opt-einsum==3.3.0 in /usr/local/lib/python3.7/dist-packages (from -r requirements.txt (line 30)) (3.3.0)\n",
            "Requirement already satisfied: packaging==20.9 in /usr/local/lib/python3.7/dist-packages (from -r requirements.txt (line 31)) (20.9)\n",
            "Collecting pathy==0.5.2\n",
            "\u001b[?25l  Downloading https://files.pythonhosted.org/packages/13/87/5991d87be8ed60beb172b4062dbafef18b32fa559635a8e2b633c2974f85/pathy-0.5.2-py3-none-any.whl (42kB)\n",
            "\u001b[K     |████████████████████████████████| 51kB 5.5MB/s \n",
            "\u001b[?25hCollecting Pillow==8.2.0\n",
            "\u001b[?25l  Downloading https://files.pythonhosted.org/packages/33/34/542152297dcc6c47a9dcb0685eac6d652d878ed3cea83bf2b23cb988e857/Pillow-8.2.0-cp37-cp37m-manylinux1_x86_64.whl (3.0MB)\n",
            "\u001b[K     |████████████████████████████████| 3.0MB 23.5MB/s \n",
            "\u001b[?25hRequirement already satisfied: preshed==3.0.5 in /usr/local/lib/python3.7/dist-packages (from -r requirements.txt (line 34)) (3.0.5)\n",
            "Requirement already satisfied: pycparser==2.20 in /usr/local/lib/python3.7/dist-packages (from -r requirements.txt (line 35)) (2.20)\n",
            "Collecting pydantic==1.7.3\n",
            "\u001b[?25l  Downloading https://files.pythonhosted.org/packages/b3/0a/52ae1c659fc08f13dd7c0ae07b88e4f807ad83fb9954a59b0b0a3d1a8ab6/pydantic-1.7.3-cp37-cp37m-manylinux2014_x86_64.whl (9.1MB)\n",
            "\u001b[K     |████████████████████████████████| 9.1MB 17.5MB/s \n",
            "\u001b[?25hCollecting pyOpenSSL==20.0.1\n",
            "\u001b[?25l  Downloading https://files.pythonhosted.org/packages/b2/5e/06351ede29fd4899782ad335c2e02f1f862a887c20a3541f17c3fa1a3525/pyOpenSSL-20.0.1-py2.py3-none-any.whl (54kB)\n",
            "\u001b[K     |████████████████████████████████| 61kB 7.4MB/s \n",
            "\u001b[?25hRequirement already satisfied: pyparsing==2.4.7 in /usr/local/lib/python3.7/dist-packages (from -r requirements.txt (line 38)) (2.4.7)\n",
            "Requirement already satisfied: python-dateutil==2.8.1 in /usr/local/lib/python3.7/dist-packages (from -r requirements.txt (line 39)) (2.8.1)\n",
            "Collecting regex==2021.4.4\n",
            "\u001b[?25l  Downloading https://files.pythonhosted.org/packages/c4/28/5f08d8841013ccf72cd95dfff2500fe7fb39467af12c5e7b802d8381d811/regex-2021.4.4-cp37-cp37m-manylinux2014_x86_64.whl (720kB)\n",
            "\u001b[K     |████████████████████████████████| 727kB 40.2MB/s \n",
            "\u001b[?25hCollecting requests==2.25.1\n",
            "\u001b[?25l  Downloading https://files.pythonhosted.org/packages/29/c1/24814557f1d22c56d50280771a17307e6bf87b70727d975fd6b2ce6b014a/requests-2.25.1-py2.py3-none-any.whl (61kB)\n",
            "\u001b[K     |████████████████████████████████| 61kB 7.4MB/s \n",
            "\u001b[?25hCollecting sacremoses==0.0.45\n",
            "\u001b[?25l  Downloading https://files.pythonhosted.org/packages/75/ee/67241dc87f266093c533a2d4d3d69438e57d7a90abb216fa076e7d475d4a/sacremoses-0.0.45-py3-none-any.whl (895kB)\n",
            "\u001b[K     |████████████████████████████████| 901kB 29.0MB/s \n",
            "\u001b[?25hCollecting scikit-learn==0.24.2\n",
            "\u001b[?25l  Downloading https://files.pythonhosted.org/packages/a8/eb/a48f25c967526b66d5f1fa7a984594f0bf0a5afafa94a8c4dbc317744620/scikit_learn-0.24.2-cp37-cp37m-manylinux2010_x86_64.whl (22.3MB)\n",
            "\u001b[K     |████████████████████████████████| 22.3MB 1.4MB/s \n",
            "\u001b[?25hCollecting scipy==1.6.3\n",
            "\u001b[?25l  Downloading https://files.pythonhosted.org/packages/7d/e8/43ffca541d2f208d516296950b25fe1084b35c2881f4d444c1346ca75815/scipy-1.6.3-cp37-cp37m-manylinux1_x86_64.whl (27.4MB)\n",
            "\u001b[K     |████████████████████████████████| 27.4MB 98kB/s \n",
            "\u001b[?25hCollecting sentencepiece==0.1.95\n",
            "\u001b[?25l  Downloading https://files.pythonhosted.org/packages/f5/99/e0808cb947ba10f575839c43e8fafc9cc44e4a7a2c8f79c60db48220a577/sentencepiece-0.1.95-cp37-cp37m-manylinux2014_x86_64.whl (1.2MB)\n",
            "\u001b[K     |████████████████████████████████| 1.2MB 33.9MB/s \n",
            "\u001b[?25hCollecting six==1.16.0\n",
            "  Downloading https://files.pythonhosted.org/packages/d9/5a/e7c31adbe875f2abbb91bd84cf2dc52d792b5a01506781dbcf25c91daf11/six-1.16.0-py2.py3-none-any.whl\n",
            "Collecting smart-open==3.0.0\n",
            "\u001b[?25l  Downloading https://files.pythonhosted.org/packages/11/9a/ba2d5f67f25e8d5bbf2fcec7a99b1e38428e83cb715f64dd179ca43a11bb/smart_open-3.0.0.tar.gz (113kB)\n",
            "\u001b[K     |████████████████████████████████| 122kB 54.9MB/s \n",
            "\u001b[?25hCollecting spacy==3.0.6\n",
            "\u001b[?25l  Downloading https://files.pythonhosted.org/packages/1b/d8/0361bbaf7a1ff56b44dca04dace54c82d63dad7475b7d25ea1baefafafb2/spacy-3.0.6-cp37-cp37m-manylinux2014_x86_64.whl (12.8MB)\n",
            "\u001b[K     |████████████████████████████████| 12.8MB 19.9MB/s \n",
            "\u001b[?25hCollecting spacy-legacy==3.0.5\n",
            "  Downloading https://files.pythonhosted.org/packages/8d/67/d4002a18e26bf29b17ab563ddb55232b445ab6a02f97bf17d1345ff34d3f/spacy_legacy-3.0.5-py2.py3-none-any.whl\n",
            "Collecting srsly==2.4.1\n",
            "\u001b[?25l  Downloading https://files.pythonhosted.org/packages/c3/84/dfdfc9f6f04f6b88207d96d9520b911e5fec0c67ff47a0dea31ab5429a1e/srsly-2.4.1-cp37-cp37m-manylinux2014_x86_64.whl (456kB)\n",
            "\u001b[K     |████████████████████████████████| 460kB 34.8MB/s \n",
            "\u001b[?25hCollecting thinc==8.0.3\n",
            "\u001b[?25l  Downloading https://files.pythonhosted.org/packages/61/87/decceba68a0c6ca356ddcb6aea8b2500e71d9bc187f148aae19b747b7d3c/thinc-8.0.3-cp37-cp37m-manylinux2014_x86_64.whl (1.1MB)\n",
            "\u001b[K     |████████████████████████████████| 1.1MB 26.0MB/s \n",
            "\u001b[?25hCollecting threadpoolctl==2.1.0\n",
            "  Downloading https://files.pythonhosted.org/packages/f7/12/ec3f2e203afa394a149911729357aa48affc59c20e2c1c8297a60f33f133/threadpoolctl-2.1.0-py3-none-any.whl\n",
            "Collecting tokenizers==0.10.2\n",
            "\u001b[?25l  Downloading https://files.pythonhosted.org/packages/ae/04/5b870f26a858552025a62f1649c20d29d2672c02ff3c3fb4c688ca46467a/tokenizers-0.10.2-cp37-cp37m-manylinux2010_x86_64.whl (3.3MB)\n",
            "\u001b[K     |████████████████████████████████| 3.3MB 18.7MB/s \n",
            "\u001b[?25hCollecting tqdm==4.60.0\n",
            "\u001b[?25l  Downloading https://files.pythonhosted.org/packages/72/8a/34efae5cf9924328a8f34eeb2fdaae14c011462d9f0e3fcded48e1266d1c/tqdm-4.60.0-py2.py3-none-any.whl (75kB)\n",
            "\u001b[K     |████████████████████████████████| 81kB 9.7MB/s \n",
            "\u001b[?25hCollecting transformers==4.5.1\n",
            "\u001b[?25l  Downloading https://files.pythonhosted.org/packages/d8/b2/57495b5309f09fa501866e225c84532d1fd89536ea62406b2181933fb418/transformers-4.5.1-py3-none-any.whl (2.1MB)\n",
            "\u001b[K     |████████████████████████████████| 2.1MB 19.0MB/s \n",
            "\u001b[?25hCollecting typer==0.3.2\n",
            "  Downloading https://files.pythonhosted.org/packages/90/34/d138832f6945432c638f32137e6c79a3b682f06a63c488dcfaca6b166c64/typer-0.3.2-py3-none-any.whl\n",
            "Collecting urllib3==1.26.4\n",
            "\u001b[?25l  Downloading https://files.pythonhosted.org/packages/09/c6/d3e3abe5b4f4f16cf0dfc9240ab7ce10c2baa0e268989a4e3ec19e90c84e/urllib3-1.26.4-py2.py3-none-any.whl (153kB)\n",
            "\u001b[K     |████████████████████████████████| 153kB 42.9MB/s \n",
            "\u001b[?25hRequirement already satisfied: wasabi==0.8.2 in /usr/local/lib/python3.7/dist-packages (from -r requirements.txt (line 58)) (0.8.2)\n",
            "Requirement already satisfied: Werkzeug==1.0.1 in /usr/local/lib/python3.7/dist-packages (from -r requirements.txt (line 59)) (1.0.1)\n",
            "Collecting youtube-transcript-api==0.4.1\n",
            "  Downloading https://files.pythonhosted.org/packages/c9/24/581920922d80f6d6d2feb30787aa4d9e298db83cb081c1de1a63cc7cf121/youtube_transcript_api-0.4.1-py3-none-any.whl\n",
            "Requirement already satisfied: typing-extensions>=3.6.4; python_version < \"3.8\" in /usr/local/lib/python3.7/dist-packages (from catalogue==2.0.4->-r requirements.txt (line 4)) (3.7.4.3)\n",
            "Requirement already satisfied: zipp>=0.5; python_version < \"3.8\" in /usr/local/lib/python3.7/dist-packages (from catalogue==2.0.4->-r requirements.txt (line 4)) (3.4.1)\n",
            "Requirement already satisfied: setuptools in /usr/local/lib/python3.7/dist-packages (from spacy==3.0.6->-r requirements.txt (line 48)) (56.1.0)\n",
            "Requirement already satisfied: importlib-metadata; python_version < \"3.8\" in /usr/local/lib/python3.7/dist-packages (from transformers==4.5.1->-r requirements.txt (line 55)) (3.10.1)\n",
            "Building wheels for collected packages: jax, smart-open\n",
            "  Building wheel for jax (setup.py) ... \u001b[?25l\u001b[?25hdone\n",
            "  Created wheel for jax: filename=jax-0.2.13-cp37-none-any.whl size=730504 sha256=adf76a8935e030fe5d3217aeb970e1fe0e4db3f7d72098d7936b4751a1af46ac\n",
            "  Stored in directory: /root/.cache/pip/wheels/9b/c9/b9/0d03d0c4febc88bc23c4a8d3c2a43f85b4360f9de4e56a4ce4\n",
            "  Building wheel for smart-open (setup.py) ... \u001b[?25l\u001b[?25hdone\n",
            "  Created wheel for smart-open: filename=smart_open-3.0.0-cp37-none-any.whl size=107098 sha256=f6de1d50fe2cadcbc40923b6af2d0c0cb76527ec31d6d6470108c741dd3599ac\n",
            "  Stored in directory: /root/.cache/pip/wheels/18/88/7c/f06dabd5e9cabe02d2269167bcacbbf9b47d0c0ff7d6ebcb78\n",
            "Successfully built jax smart-open\n",
            "\u001b[31mERROR: tensorflow 2.4.1 has requirement numpy~=1.19.2, but you'll have numpy 1.20.2 which is incompatible.\u001b[0m\n",
            "\u001b[31mERROR: tensorflow 2.4.1 has requirement six~=1.15.0, but you'll have six 1.16.0 which is incompatible.\u001b[0m\n",
            "\u001b[31mERROR: google-colab 1.0.0 has requirement requests~=2.23.0, but you'll have requests 2.25.1 which is incompatible.\u001b[0m\n",
            "\u001b[31mERROR: google-colab 1.0.0 has requirement six~=1.15.0, but you'll have six 1.16.0 which is incompatible.\u001b[0m\n",
            "\u001b[31mERROR: datascience 0.10.6 has requirement folium==0.2.1, but you'll have folium 0.8.3 which is incompatible.\u001b[0m\n",
            "\u001b[31mERROR: albumentations 0.1.12 has requirement imgaug<0.2.7,>=0.2.5, but you'll have imgaug 0.2.9 which is incompatible.\u001b[0m\n",
            "Installing collected packages: regex, tokenizers, numpy, urllib3, chardet, requests, tqdm, six, sacremoses, transformers, pydantic, blis, catalogue, srsly, thinc, smart-open, typer, pathy, spacy-legacy, spacy, threadpoolctl, scipy, scikit-learn, bert-extractive-summarizer, cryptography, Flask-Cors, flask-ngrok, jax, Pillow, matplotlib, flax, pyOpenSSL, sentencepiece, youtube-transcript-api\n",
            "  Found existing installation: regex 2019.12.20\n",
            "    Uninstalling regex-2019.12.20:\n",
            "      Successfully uninstalled regex-2019.12.20\n",
            "  Found existing installation: numpy 1.19.5\n",
            "    Uninstalling numpy-1.19.5:\n",
            "      Successfully uninstalled numpy-1.19.5\n",
            "  Found existing installation: urllib3 1.24.3\n",
            "    Uninstalling urllib3-1.24.3:\n",
            "      Successfully uninstalled urllib3-1.24.3\n",
            "  Found existing installation: chardet 3.0.4\n",
            "    Uninstalling chardet-3.0.4:\n",
            "      Successfully uninstalled chardet-3.0.4\n",
            "  Found existing installation: requests 2.23.0\n",
            "    Uninstalling requests-2.23.0:\n",
            "      Successfully uninstalled requests-2.23.0\n",
            "  Found existing installation: tqdm 4.41.1\n",
            "    Uninstalling tqdm-4.41.1:\n",
            "      Successfully uninstalled tqdm-4.41.1\n",
            "  Found existing installation: six 1.15.0\n",
            "    Uninstalling six-1.15.0:\n",
            "      Successfully uninstalled six-1.15.0\n",
            "  Found existing installation: blis 0.4.1\n",
            "    Uninstalling blis-0.4.1:\n",
            "      Successfully uninstalled blis-0.4.1\n",
            "  Found existing installation: catalogue 1.0.0\n",
            "    Uninstalling catalogue-1.0.0:\n",
            "      Successfully uninstalled catalogue-1.0.0\n",
            "  Found existing installation: srsly 1.0.5\n",
            "    Uninstalling srsly-1.0.5:\n",
            "      Successfully uninstalled srsly-1.0.5\n",
            "  Found existing installation: thinc 7.4.0\n",
            "    Uninstalling thinc-7.4.0:\n",
            "      Successfully uninstalled thinc-7.4.0\n",
            "  Found existing installation: smart-open 5.0.0\n",
            "    Uninstalling smart-open-5.0.0:\n",
            "      Successfully uninstalled smart-open-5.0.0\n",
            "  Found existing installation: spacy 2.2.4\n",
            "    Uninstalling spacy-2.2.4:\n",
            "      Successfully uninstalled spacy-2.2.4\n",
            "  Found existing installation: scipy 1.4.1\n",
            "    Uninstalling scipy-1.4.1:\n",
            "      Successfully uninstalled scipy-1.4.1\n",
            "  Found existing installation: scikit-learn 0.22.2.post1\n",
            "    Uninstalling scikit-learn-0.22.2.post1:\n",
            "      Successfully uninstalled scikit-learn-0.22.2.post1\n",
            "  Found existing installation: jax 0.2.12\n",
            "    Uninstalling jax-0.2.12:\n",
            "      Successfully uninstalled jax-0.2.12\n",
            "  Found existing installation: Pillow 7.1.2\n",
            "    Uninstalling Pillow-7.1.2:\n",
            "      Successfully uninstalled Pillow-7.1.2\n",
            "  Found existing installation: matplotlib 3.2.2\n",
            "    Uninstalling matplotlib-3.2.2:\n",
            "      Successfully uninstalled matplotlib-3.2.2\n",
            "Successfully installed Flask-Cors-3.0.10 Pillow-8.2.0 bert-extractive-summarizer-0.7.1 blis-0.7.4 catalogue-2.0.4 chardet-4.0.0 cryptography-3.4.7 flask-ngrok-0.0.25 flax-0.3.3 jax-0.2.13 matplotlib-3.4.1 numpy-1.20.2 pathy-0.5.2 pyOpenSSL-20.0.1 pydantic-1.7.3 regex-2021.4.4 requests-2.25.1 sacremoses-0.0.45 scikit-learn-0.24.2 scipy-1.6.3 sentencepiece-0.1.95 six-1.16.0 smart-open-3.0.0 spacy-3.0.6 spacy-legacy-3.0.5 srsly-2.4.1 thinc-8.0.3 threadpoolctl-2.1.0 tokenizers-0.10.2 tqdm-4.60.0 transformers-4.5.1 typer-0.3.2 urllib3-1.26.4 youtube-transcript-api-0.4.1\n"
          ],
          "name": "stdout"
        },
        {
          "output_type": "display_data",
          "data": {
            "application/vnd.colab-display-data+json": {
              "pip_warning": {
                "packages": [
                  "PIL",
                  "matplotlib",
                  "mpl_toolkits",
                  "numpy",
                  "six"
                ]
              }
            }
          },
          "metadata": {
            "tags": []
          }
        }
      ]
    }
  ]
}